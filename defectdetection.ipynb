{
  "nbformat": 4,
  "nbformat_minor": 0,
  "metadata": {
    "colab": {
      "name": "defectdetection.ipynb",
      "version": "0.3.2",
      "provenance": [],
      "collapsed_sections": []
    },
    "kernelspec": {
      "name": "python3",
      "display_name": "Python 3"
    },
    "accelerator": "GPU"
  },
  "cells": [
    {
      "metadata": {
        "id": "EbFmNYqPR5Iy",
        "colab_type": "code",
        "outputId": "15855254-771a-4baf-b5b7-25a17fdccb9f",
        "colab": {
          "base_uri": "https://localhost:8080/",
          "height": 246
        }
      },
      "cell_type": "code",
      "source": [
        "!apt-get install -y -qq software-properties-common python-software-properties module-init-tools\n",
        "!add-apt-repository -y ppa:alessandro-strada/ppa 2>&1 > /dev/null\n",
        "!apt-get update -qq 2>&1 > /dev/null\n",
        "!apt-get -y install -qq google-drive-ocamlfuse fuse\n",
        "from google.colab import auth\n",
        "auth.authenticate_user()\n",
        "from oauth2client.client import GoogleCredentials\n",
        "creds = GoogleCredentials.get_application_default()\n",
        "import getpass\n",
        "!google-drive-ocamlfuse -headless -id={creds.client_id} -secret={creds.client_secret} < /dev/null 2>&1 | grep URL\n",
        "vcode = getpass.getpass()\n",
        "!echo {vcode} | google-drive-ocamlfuse -headless -id={creds.client_id} -secret={creds.client_secret}"
      ],
      "execution_count": 4,
      "outputs": [
        {
          "output_type": "stream",
          "text": [
            "E: Package 'python-software-properties' has no installation candidate\n",
            "Selecting previously unselected package google-drive-ocamlfuse.\n",
            "(Reading database ... 131352 files and directories currently installed.)\n",
            "Preparing to unpack .../google-drive-ocamlfuse_0.7.1-0ubuntu3~ubuntu18.04.1_amd64.deb ...\n",
            "Unpacking google-drive-ocamlfuse (0.7.1-0ubuntu3~ubuntu18.04.1) ...\n",
            "Setting up google-drive-ocamlfuse (0.7.1-0ubuntu3~ubuntu18.04.1) ...\n",
            "Processing triggers for man-db (2.8.3-2ubuntu0.1) ...\n",
            "Please, open the following URL in a web browser: https://accounts.google.com/o/oauth2/auth?client_id=32555940559.apps.googleusercontent.com&redirect_uri=urn%3Aietf%3Awg%3Aoauth%3A2.0%3Aoob&scope=https%3A%2F%2Fwww.googleapis.com%2Fauth%2Fdrive&response_type=code&access_type=offline&approval_prompt=force\n",
            "··········\n",
            "Please, open the following URL in a web browser: https://accounts.google.com/o/oauth2/auth?client_id=32555940559.apps.googleusercontent.com&redirect_uri=urn%3Aietf%3Awg%3Aoauth%3A2.0%3Aoob&scope=https%3A%2F%2Fwww.googleapis.com%2Fauth%2Fdrive&response_type=code&access_type=offline&approval_prompt=force\n",
            "Please enter the verification code: Access token retrieved correctly.\n"
          ],
          "name": "stdout"
        }
      ]
    },
    {
      "metadata": {
        "id": "FGjiAnhLT6O1",
        "colab_type": "code",
        "colab": {}
      },
      "cell_type": "code",
      "source": [
        "!mkdir -p drive\n",
        "!google-drive-ocamlfuse drive"
      ],
      "execution_count": 0,
      "outputs": []
    },
    {
      "metadata": {
        "id": "xzEYUhbMUGV9",
        "colab_type": "code",
        "outputId": "ad8bf87f-4683-4e9a-fe43-e4691859d4ea",
        "colab": {
          "base_uri": "https://localhost:8080/",
          "height": 36
        }
      },
      "cell_type": "code",
      "source": [
        "%cd /content/drive/defect-detection"
      ],
      "execution_count": 6,
      "outputs": [
        {
          "output_type": "stream",
          "text": [
            "/content/drive/defect-detection\n"
          ],
          "name": "stdout"
        }
      ]
    },
    {
      "metadata": {
        "id": "ZEqdffvcVC3D",
        "colab_type": "code",
        "colab": {}
      },
      "cell_type": "code",
      "source": [
        "!pip install -r requirements.txt"
      ],
      "execution_count": 0,
      "outputs": []
    },
    {
      "metadata": {
        "id": "SurrCwN-dBUS",
        "colab_type": "code",
        "colab": {}
      },
      "cell_type": "code",
      "source": [
        "import os\n",
        "import shutil\n",
        "from tqdm import tqdm\n",
        "\n",
        "neg_files = os.listdir(\"Class6/neg\")\n",
        "pos_files = os.listdir(\"Class6/pos\")\n",
        "\n",
        "neg = len(neg_files)\n",
        "pos = len(pos_files)\n",
        "\n",
        "#%80 train %20 test for negative images\n",
        "neg_train = int(neg * 0.8)\n",
        "neg_test = neg - neg_train\n",
        "#%80 train %20 test for positive images\n",
        "pos_train = int(pos * 0.8)\n",
        "pos_test = pos - pos_train"
      ],
      "execution_count": 0,
      "outputs": []
    },
    {
      "metadata": {
        "id": "-1cxNWyXdIC7",
        "colab_type": "code",
        "colab": {}
      },
      "cell_type": "code",
      "source": [
        "os.makedirs('train/negative')\n",
        "os.makedirs('train/positive')\n",
        "os.makedirs('test/negative')\n",
        "os.makedirs('test/positive')"
      ],
      "execution_count": 0,
      "outputs": []
    },
    {
      "metadata": {
        "id": "3up3eV-ndR-a",
        "colab_type": "code",
        "outputId": "79092110-c2d5-4492-fa88-a9ccbe2b5c64",
        "colab": {
          "base_uri": "https://localhost:8080/",
          "height": 36
        }
      },
      "cell_type": "code",
      "source": [
        "for i in tqdm(range(0, neg_train)):\n",
        "    file = \"Class6/neg/\" + neg_files[i]\n",
        "    shutil.move(file, \"train/negative\")"
      ],
      "execution_count": 0,
      "outputs": [
        {
          "output_type": "stream",
          "text": [
            "100%|██████████| 66/66 [02:06<00:00,  2.16s/it]\n"
          ],
          "name": "stderr"
        }
      ]
    },
    {
      "metadata": {
        "id": "I93dLs_nrAxO",
        "colab_type": "code",
        "outputId": "e1ae131a-a5c5-49ab-9dd8-c771e434cc5b",
        "colab": {
          "base_uri": "https://localhost:8080/",
          "height": 36
        }
      },
      "cell_type": "code",
      "source": [
        "for i in tqdm(range(neg_train, neg)):\n",
        "    file = \"Class6/neg/\" + neg_files[i]\n",
        "    shutil.move(file, \"test/negative\")"
      ],
      "execution_count": 0,
      "outputs": [
        {
          "output_type": "stream",
          "text": [
            "100%|██████████| 17/17 [00:32<00:00,  1.89s/it]\n"
          ],
          "name": "stderr"
        }
      ]
    },
    {
      "metadata": {
        "id": "EZofM4nWrBBo",
        "colab_type": "code",
        "outputId": "af8b3847-aa9a-4f7a-d320-f6e3b714b5a8",
        "colab": {
          "base_uri": "https://localhost:8080/",
          "height": 36
        }
      },
      "cell_type": "code",
      "source": [
        "for i in tqdm(range(0, pos_train)):\n",
        "    file = \"Class6/pos/\" + pos_files[i]\n",
        "    shutil.move(file, \"train/positive\")"
      ],
      "execution_count": 0,
      "outputs": [
        {
          "output_type": "stream",
          "text": [
            "100%|██████████| 393/393 [12:18<00:00,  1.81s/it]\n"
          ],
          "name": "stderr"
        }
      ]
    },
    {
      "metadata": {
        "id": "Wha63DpkrBQM",
        "colab_type": "code",
        "outputId": "b029f87d-be9f-45e0-b86b-fc0d19d1be62",
        "colab": {
          "base_uri": "https://localhost:8080/",
          "height": 36
        }
      },
      "cell_type": "code",
      "source": [
        "for i in tqdm(range(pos_train, pos)):\n",
        "    file = \"Class6/pos/\" + pos_files[i]\n",
        "    shutil.move(file, \"test/positive\")"
      ],
      "execution_count": 0,
      "outputs": [
        {
          "output_type": "stream",
          "text": [
            "100%|██████████| 99/99 [02:59<00:00,  1.86s/it]\n"
          ],
          "name": "stderr"
        }
      ]
    },
    {
      "metadata": {
        "id": "n2j4suXBcECm",
        "colab_type": "code",
        "colab": {}
      },
      "cell_type": "code",
      "source": [
        "import numpy as np\n",
        "import pandas as pd\n",
        "from imutils import paths\n",
        "\n",
        "from keras.models import Sequential\n",
        "from keras.layers import Conv2D\n",
        "from keras.layers import MaxPooling2D\n",
        "from keras.layers import Flatten\n",
        "from keras.layers import Dense\n",
        "from keras.layers import Dropout\n"
      ],
      "execution_count": 0,
      "outputs": []
    },
    {
      "metadata": {
        "id": "9QJFuRn3cniM",
        "colab_type": "code",
        "colab": {}
      },
      "cell_type": "code",
      "source": [
        "from PIL import ImageFile\n",
        "ImageFile.LOAD_TRUNCATED_IMAGES = True"
      ],
      "execution_count": 0,
      "outputs": []
    },
    {
      "metadata": {
        "id": "oHxQXiPZcsZL",
        "colab_type": "code",
        "colab": {}
      },
      "cell_type": "code",
      "source": [
        "train_data_dir = \"train\"\n",
        "test_data_dir = \"test\"\n",
        "TRAIN = len(list(paths.list_images(train_data_dir)))\n",
        "TEST = len(list(paths.list_images(test_data_dir)))\n",
        "BS = 8\n",
        "EPOCHS = 5\n",
        "img_width, img_height = 512, 512"
      ],
      "execution_count": 0,
      "outputs": []
    },
    {
      "metadata": {
        "id": "FPT3BDt6cyZj",
        "colab_type": "code",
        "outputId": "9184da29-9df7-4744-e6bc-e39a19d05d43",
        "colab": {
          "base_uri": "https://localhost:8080/",
          "height": 151
        }
      },
      "cell_type": "code",
      "source": [
        "classifier = Sequential()\n",
        "\n",
        "classifier.add(Conv2D(128, (2,2), \n",
        "                      input_shape = (img_width, img_height, 3), \n",
        "                      activation = 'relu'))\n",
        "classifier.add(MaxPooling2D(pool_size = (2, 2)))\n",
        "\n",
        "classifier.add(Conv2D(64, (3,3), activation = 'relu'))\n",
        "classifier.add(Conv2D(64, (2,2), activation = 'relu'))\n",
        "classifier.add(Conv2D(64, (1,1), activation = 'relu'))\n",
        "classifier.add(MaxPooling2D(pool_size = (2, 2)))\n",
        "\n",
        "classifier.add(Conv2D(32, (2,2), activation = 'relu'))\n",
        "classifier.add(Conv2D(32, (2,2), activation = 'relu'))\n",
        "classifier.add(MaxPooling2D(pool_size = (2, 2)))\n",
        "\n",
        "classifier.add(Flatten())\n",
        "\n",
        "classifier.add(Dense(units = 128, activation = 'relu'))\n",
        "classifier.add(Dropout(0.3))\n",
        "classifier.add(Dense(units = 10, activation = 'relu'))\n",
        "classifier.add(Dropout(0.3))\n",
        "classifier.add(Dense(units = 1, activation = 'sigmoid'))"
      ],
      "execution_count": 0,
      "outputs": [
        {
          "output_type": "stream",
          "text": [
            "WARNING:tensorflow:From /usr/local/lib/python3.6/dist-packages/tensorflow/python/framework/op_def_library.py:263: colocate_with (from tensorflow.python.framework.ops) is deprecated and will be removed in a future version.\n",
            "Instructions for updating:\n",
            "Colocations handled automatically by placer.\n",
            "WARNING:tensorflow:From /usr/local/lib/python3.6/dist-packages/keras/backend/tensorflow_backend.py:3445: calling dropout (from tensorflow.python.ops.nn_ops) with keep_prob is deprecated and will be removed in a future version.\n",
            "Instructions for updating:\n",
            "Please use `rate` instead of `keep_prob`. Rate should be set to `rate = 1 - keep_prob`.\n"
          ],
          "name": "stdout"
        }
      ]
    },
    {
      "metadata": {
        "id": "UNnHqmMTc5QB",
        "colab_type": "code",
        "outputId": "b2f39f9f-2a40-449a-83d5-f8a1beadec37",
        "colab": {
          "base_uri": "https://localhost:8080/",
          "height": 720
        }
      },
      "cell_type": "code",
      "source": [
        "classifier.summary()"
      ],
      "execution_count": 0,
      "outputs": [
        {
          "output_type": "stream",
          "text": [
            "_________________________________________________________________\n",
            "Layer (type)                 Output Shape              Param #   \n",
            "=================================================================\n",
            "conv2d_1 (Conv2D)            (None, 511, 511, 128)     1664      \n",
            "_________________________________________________________________\n",
            "max_pooling2d_1 (MaxPooling2 (None, 255, 255, 128)     0         \n",
            "_________________________________________________________________\n",
            "conv2d_2 (Conv2D)            (None, 253, 253, 64)      73792     \n",
            "_________________________________________________________________\n",
            "conv2d_3 (Conv2D)            (None, 252, 252, 64)      16448     \n",
            "_________________________________________________________________\n",
            "conv2d_4 (Conv2D)            (None, 252, 252, 64)      4160      \n",
            "_________________________________________________________________\n",
            "max_pooling2d_2 (MaxPooling2 (None, 126, 126, 64)      0         \n",
            "_________________________________________________________________\n",
            "conv2d_5 (Conv2D)            (None, 125, 125, 32)      8224      \n",
            "_________________________________________________________________\n",
            "conv2d_6 (Conv2D)            (None, 124, 124, 32)      4128      \n",
            "_________________________________________________________________\n",
            "max_pooling2d_3 (MaxPooling2 (None, 62, 62, 32)        0         \n",
            "_________________________________________________________________\n",
            "flatten_1 (Flatten)          (None, 123008)            0         \n",
            "_________________________________________________________________\n",
            "dense_1 (Dense)              (None, 128)               15745152  \n",
            "_________________________________________________________________\n",
            "dropout_1 (Dropout)          (None, 128)               0         \n",
            "_________________________________________________________________\n",
            "dense_2 (Dense)              (None, 10)                1290      \n",
            "_________________________________________________________________\n",
            "dropout_2 (Dropout)          (None, 10)                0         \n",
            "_________________________________________________________________\n",
            "dense_3 (Dense)              (None, 1)                 11        \n",
            "=================================================================\n",
            "Total params: 15,854,869\n",
            "Trainable params: 15,854,869\n",
            "Non-trainable params: 0\n",
            "_________________________________________________________________\n"
          ],
          "name": "stdout"
        }
      ]
    },
    {
      "metadata": {
        "id": "aQ5pE2sIc923",
        "colab_type": "code",
        "colab": {}
      },
      "cell_type": "code",
      "source": [
        "# compile model\n",
        "classifier.compile(optimizer = 'adam', \n",
        "                   loss = 'binary_crossentropy', \n",
        "                   metrics = ['accuracy'])"
      ],
      "execution_count": 0,
      "outputs": []
    },
    {
      "metadata": {
        "id": "QusBgTgydBCs",
        "colab_type": "code",
        "outputId": "91b31ead-6c58-4a9d-f70b-178b3f1755dc",
        "colab": {
          "base_uri": "https://localhost:8080/",
          "height": 55
        }
      },
      "cell_type": "code",
      "source": [
        "# create data generators and data pathways\n",
        "from keras.preprocessing.image import ImageDataGenerator\n",
        "\n",
        "trainAug = ImageDataGenerator(rescale = 1./255,\n",
        "                               shear_range = 0.2,\n",
        "                               zoom_range = 0.2,\n",
        "                               horizontal_flip = True,\n",
        "                               fill_mode = \"nearest\")\n",
        "\n",
        "testAug = ImageDataGenerator(rescale = 1./255,\n",
        "                             fill_mode = \"nearest\")\n",
        "\n",
        "trainGen = trainAug.flow_from_directory('train',\n",
        "                                         target_size = (img_width, img_height),\n",
        "                                         batch_size = BS,\n",
        "                                         class_mode = 'binary')\n",
        "\n",
        "testGen = testAug.flow_from_directory('test',\n",
        "                                    target_size = (img_width, img_height),\n",
        "                                    batch_size = BS,\n",
        "                                    class_mode = 'binary')"
      ],
      "execution_count": 0,
      "outputs": [
        {
          "output_type": "stream",
          "text": [
            "Found 459 images belonging to 2 classes.\n",
            "Found 116 images belonging to 2 classes.\n"
          ],
          "name": "stdout"
        }
      ]
    },
    {
      "metadata": {
        "id": "ePueYZJKdGVj",
        "colab_type": "code",
        "outputId": "1744121e-f920-4712-c67a-01c585b6b6a4",
        "colab": {
          "base_uri": "https://localhost:8080/",
          "height": 36
        }
      },
      "cell_type": "code",
      "source": [
        "classes = trainGen.class_indices    \n",
        "print(classes)"
      ],
      "execution_count": 0,
      "outputs": [
        {
          "output_type": "stream",
          "text": [
            "{'negative': 0, 'positive': 1}\n"
          ],
          "name": "stdout"
        }
      ]
    },
    {
      "metadata": {
        "id": "DE1tQNlHdNaW",
        "colab_type": "code",
        "outputId": "8d481924-ebc1-4fb3-e4d1-6d978919d2db",
        "colab": {
          "base_uri": "https://localhost:8080/",
          "height": 207
        }
      },
      "cell_type": "code",
      "source": [
        "# train model\n",
        "H = classifier.fit_generator(trainGen,\n",
        "                             epochs = EPOCHS,\n",
        "                             steps_per_epoch = TRAIN // BS)"
      ],
      "execution_count": 0,
      "outputs": [
        {
          "output_type": "stream",
          "text": [
            "Epoch 1/5\n",
            "57/57 [==============================] - 1217s 21s/step - loss: 0.6125 - acc: 0.8333\n",
            "Epoch 2/5\n",
            "57/57 [==============================] - 1196s 21s/step - loss: 0.4339 - acc: 0.8596\n",
            "Epoch 3/5\n",
            "57/57 [==============================] - 1197s 21s/step - loss: 0.1571 - acc: 0.9342\n",
            "Epoch 4/5\n",
            "57/57 [==============================] - 1187s 21s/step - loss: 0.0345 - acc: 0.9759\n",
            "Epoch 5/5\n",
            "57/57 [==============================] - 1179s 21s/step - loss: 0.0190 - acc: 0.9789\n"
          ],
          "name": "stdout"
        }
      ]
    },
    {
      "metadata": {
        "id": "KlwnBYJ3pvtA",
        "colab_type": "code",
        "colab": {}
      },
      "cell_type": "code",
      "source": [
        "#save model\n",
        "classifier.save('model.h5')"
      ],
      "execution_count": 0,
      "outputs": []
    },
    {
      "metadata": {
        "id": "s5CE_WJQ7Ifk",
        "colab_type": "code",
        "colab": {
          "base_uri": "https://localhost:8080/",
          "height": 227
        },
        "outputId": "2483a9c4-568f-4ccf-eeab-e791cb079f11"
      },
      "cell_type": "code",
      "source": [
        "from keras.models import load_model\n",
        "\n",
        "classifier = load_model('model.h5')\n",
        "classifier.compile(optimizer = 'adam',\n",
        "                  loss = 'binary_crossentropy',\n",
        "                  metrics =['accuracy'])"
      ],
      "execution_count": 24,
      "outputs": [
        {
          "output_type": "stream",
          "text": [
            "Using TensorFlow backend.\n"
          ],
          "name": "stderr"
        },
        {
          "output_type": "stream",
          "text": [
            "WARNING:tensorflow:From /usr/local/lib/python3.6/dist-packages/tensorflow/python/framework/op_def_library.py:263: colocate_with (from tensorflow.python.framework.ops) is deprecated and will be removed in a future version.\n",
            "Instructions for updating:\n",
            "Colocations handled automatically by placer.\n",
            "WARNING:tensorflow:From /usr/local/lib/python3.6/dist-packages/keras/backend/tensorflow_backend.py:3445: calling dropout (from tensorflow.python.ops.nn_ops) with keep_prob is deprecated and will be removed in a future version.\n",
            "Instructions for updating:\n",
            "Please use `rate` instead of `keep_prob`. Rate should be set to `rate = 1 - keep_prob`.\n",
            "WARNING:tensorflow:From /usr/local/lib/python3.6/dist-packages/tensorflow/python/ops/math_ops.py:3066: to_int32 (from tensorflow.python.ops.math_ops) is deprecated and will be removed in a future version.\n",
            "Instructions for updating:\n",
            "Use tf.cast instead.\n"
          ],
          "name": "stdout"
        }
      ]
    },
    {
      "metadata": {
        "id": "NKJz_wIc7yR_",
        "colab_type": "code",
        "colab": {
          "base_uri": "https://localhost:8080/",
          "height": 10942
        },
        "outputId": "8970b9ae-e3b6-4372-c310-0d057da8ee9e"
      },
      "cell_type": "code",
      "source": [
        "import cv2\n",
        "import numpy as np\n",
        "\n",
        "img_width, img_height = 512, 512 \n",
        "directory = 'Class6/Test'\n",
        "\n",
        "for file in os.listdir(directory):\n",
        "  filename = os.path.join(directory, file)\n",
        "  if filename.endswith(\".PNG\"):\n",
        "    img = cv2.imread(filename)\n",
        "    img= cv2.resize(img, (img_width, img_height))\n",
        "    img = img.astype(\"float\")/255.0\n",
        "    img = np.reshape(img, [1, img_width, img_height, 3])\n",
        "    \n",
        "    pred = classifier.predict(img)\n",
        "    predicted_class = \"UNRECOGNIZABLE\"\n",
        "    if (pred <= 0.5):\n",
        "      predicted_class = \"Defect\"\n",
        "    else:\n",
        "      predicted_class = \"No defect\"\n",
        "    \n",
        "    print(\"Predicted class for: \" + file + \" is => \" + predicted_class)\n",
        "    \n",
        "  else:\n",
        "    print(\"The directory \" + filename + \" could not be located.\")\n",
        "    \n",
        "    \n",
        "    "
      ],
      "execution_count": 60,
      "outputs": [
        {
          "output_type": "stream",
          "text": [
            "Predicted class for: 0478.PNG is => Defect\n",
            "Predicted class for: 0485.PNG is => Defect\n",
            "Predicted class for: 0482.PNG is => No defect\n",
            "Predicted class for: 0477.PNG is => No defect\n",
            "Predicted class for: 0476.PNG is => No defect\n",
            "Predicted class for: 0486.PNG is => No defect\n",
            "Predicted class for: 0484.PNG is => No defect\n",
            "Predicted class for: 0479.PNG is => No defect\n",
            "Predicted class for: 0480.PNG is => No defect\n",
            "Predicted class for: 0481.PNG is => Defect\n",
            "Predicted class for: 0483.PNG is => No defect\n",
            "Predicted class for: 0487.PNG is => No defect\n",
            "Predicted class for: 0495.PNG is => Defect\n",
            "Predicted class for: 0497.PNG is => No defect\n",
            "Predicted class for: 0496.PNG is => No defect\n",
            "Predicted class for: 0491.PNG is => No defect\n",
            "Predicted class for: 0498.PNG is => No defect\n",
            "Predicted class for: 0494.PNG is => No defect\n",
            "Predicted class for: 0492.PNG is => Defect\n",
            "Predicted class for: 0490.PNG is => No defect\n",
            "Predicted class for: 0493.PNG is => No defect\n",
            "Predicted class for: 0488.PNG is => No defect\n",
            "Predicted class for: 0489.PNG is => No defect\n",
            "Predicted class for: 0499.PNG is => No defect\n",
            "Predicted class for: 0509.PNG is => No defect\n",
            "Predicted class for: 0504.PNG is => No defect\n",
            "Predicted class for: 0505.PNG is => No defect\n",
            "Predicted class for: 0506.PNG is => No defect\n",
            "Predicted class for: 0507.PNG is => No defect\n",
            "Predicted class for: 0501.PNG is => No defect\n",
            "Predicted class for: 0503.PNG is => No defect\n",
            "Predicted class for: 0510.PNG is => No defect\n",
            "Predicted class for: 0508.PNG is => No defect\n",
            "Predicted class for: 0500.PNG is => No defect\n",
            "Predicted class for: 0502.PNG is => No defect\n",
            "Predicted class for: 0511.PNG is => No defect\n",
            "Predicted class for: 0512.PNG is => No defect\n",
            "Predicted class for: 0519.PNG is => No defect\n",
            "Predicted class for: 0517.PNG is => No defect\n",
            "Predicted class for: 0518.PNG is => No defect\n",
            "Predicted class for: 0520.PNG is => No defect\n",
            "Predicted class for: 0522.PNG is => No defect\n",
            "Predicted class for: 0516.PNG is => No defect\n",
            "Predicted class for: 0513.PNG is => No defect\n",
            "Predicted class for: 0514.PNG is => No defect\n",
            "Predicted class for: 0521.PNG is => No defect\n",
            "Predicted class for: 0523.PNG is => No defect\n",
            "Predicted class for: 0515.PNG is => No defect\n",
            "Predicted class for: 0524.PNG is => No defect\n",
            "Predicted class for: 0525.PNG is => No defect\n",
            "Predicted class for: 0527.PNG is => Defect\n",
            "Predicted class for: 0529.PNG is => No defect\n",
            "Predicted class for: 0533.PNG is => No defect\n",
            "Predicted class for: 0534.PNG is => No defect\n",
            "Predicted class for: 0535.PNG is => No defect\n",
            "Predicted class for: 0530.PNG is => No defect\n",
            "Predicted class for: 0528.PNG is => No defect\n",
            "Predicted class for: 0531.PNG is => No defect\n",
            "Predicted class for: 0536.PNG is => No defect\n",
            "Predicted class for: 0526.PNG is => No defect\n",
            "Predicted class for: 0532.PNG is => No defect\n",
            "Predicted class for: 0537.PNG is => Defect\n",
            "Predicted class for: 0542.PNG is => No defect\n",
            "Predicted class for: 0547.PNG is => No defect\n",
            "Predicted class for: 0538.PNG is => No defect\n",
            "Predicted class for: 0543.PNG is => No defect\n",
            "Predicted class for: 0548.PNG is => No defect\n",
            "Predicted class for: 0540.PNG is => Defect\n",
            "Predicted class for: 0539.PNG is => No defect\n",
            "Predicted class for: 0546.PNG is => Defect\n",
            "Predicted class for: 0544.PNG is => No defect\n",
            "Predicted class for: 0541.PNG is => No defect\n",
            "Predicted class for: 0549.PNG is => No defect\n",
            "Predicted class for: 0545.PNG is => No defect\n",
            "Predicted class for: 0550.PNG is => No defect\n",
            "Predicted class for: 0552.PNG is => No defect\n",
            "Predicted class for: 0560.PNG is => No defect\n",
            "Predicted class for: 0554.PNG is => No defect\n",
            "Predicted class for: 0555.PNG is => No defect\n",
            "Predicted class for: 0556.PNG is => No defect\n",
            "Predicted class for: 0559.PNG is => No defect\n",
            "Predicted class for: 0557.PNG is => No defect\n",
            "Predicted class for: 0551.PNG is => Defect\n",
            "Predicted class for: 0558.PNG is => No defect\n",
            "Predicted class for: 0561.PNG is => No defect\n",
            "Predicted class for: 0553.PNG is => No defect\n",
            "Predicted class for: 0562.PNG is => No defect\n",
            "Predicted class for: 0563.PNG is => Defect\n",
            "Predicted class for: 0572.PNG is => No defect\n",
            "Predicted class for: 0565.PNG is => No defect\n",
            "Predicted class for: 0564.PNG is => No defect\n",
            "Predicted class for: 0568.PNG is => No defect\n",
            "Predicted class for: 0573.PNG is => No defect\n",
            "Predicted class for: 0569.PNG is => No defect\n",
            "Predicted class for: 0567.PNG is => No defect\n",
            "Predicted class for: 0570.PNG is => No defect\n",
            "Predicted class for: 0571.PNG is => No defect\n",
            "Predicted class for: 0566.PNG is => No defect\n",
            "Predicted class for: 0574.PNG is => No defect\n",
            "Predicted class for: 0575.PNG is => No defect\n",
            "Predicted class for: 0382.PNG is => No defect\n",
            "Predicted class for: 0385.PNG is => No defect\n",
            "Predicted class for: 0383.PNG is => No defect\n",
            "Predicted class for: 0380.PNG is => No defect\n",
            "Predicted class for: 0381.PNG is => Defect\n",
            "Predicted class for: 0386.PNG is => No defect\n",
            "Predicted class for: 0376.PNG is => No defect\n",
            "Predicted class for: 0377.PNG is => No defect\n",
            "Predicted class for: 0384.PNG is => No defect\n",
            "Predicted class for: 0378.PNG is => No defect\n",
            "Predicted class for: 0387.PNG is => No defect\n",
            "Predicted class for: 0379.PNG is => No defect\n",
            "Predicted class for: 0388.PNG is => No defect\n",
            "Predicted class for: 0389.PNG is => No defect\n",
            "Predicted class for: 0398.PNG is => No defect\n",
            "Predicted class for: 0390.PNG is => No defect\n",
            "Predicted class for: 0391.PNG is => No defect\n",
            "Predicted class for: 0392.PNG is => No defect\n",
            "Predicted class for: 0394.PNG is => No defect\n",
            "Predicted class for: 0397.PNG is => No defect\n",
            "Predicted class for: 0393.PNG is => No defect\n",
            "Predicted class for: 0396.PNG is => Defect\n",
            "Predicted class for: 0399.PNG is => No defect\n",
            "Predicted class for: 0395.PNG is => No defect\n",
            "Predicted class for: 0400.PNG is => No defect\n",
            "Predicted class for: 0402.PNG is => No defect\n",
            "Predicted class for: 0408.PNG is => No defect\n",
            "Predicted class for: 0410.PNG is => No defect\n",
            "Predicted class for: 0407.PNG is => No defect\n",
            "Predicted class for: 0409.PNG is => No defect\n",
            "Predicted class for: 0406.PNG is => Defect\n",
            "Predicted class for: 0411.PNG is => Defect\n",
            "Predicted class for: 0401.PNG is => Defect\n",
            "Predicted class for: 0405.PNG is => No defect\n",
            "Predicted class for: 0403.PNG is => Defect\n",
            "Predicted class for: 0404.PNG is => Defect\n",
            "Predicted class for: 0412.PNG is => No defect\n",
            "Predicted class for: 0415.PNG is => No defect\n",
            "Predicted class for: 0422.PNG is => No defect\n",
            "Predicted class for: 0420.PNG is => No defect\n",
            "Predicted class for: 0419.PNG is => No defect\n",
            "Predicted class for: 0421.PNG is => No defect\n",
            "Predicted class for: 0413.PNG is => No defect\n",
            "Predicted class for: 0417.PNG is => No defect\n",
            "Predicted class for: 0414.PNG is => No defect\n",
            "Predicted class for: 0423.PNG is => No defect\n",
            "Predicted class for: 0418.PNG is => No defect\n",
            "Predicted class for: 0416.PNG is => No defect\n",
            "Predicted class for: 0424.PNG is => No defect\n",
            "Predicted class for: 0425.PNG is => No defect\n",
            "Predicted class for: 0433.PNG is => No defect\n",
            "Predicted class for: 0435.PNG is => No defect\n",
            "Predicted class for: 0428.PNG is => No defect\n",
            "Predicted class for: 0426.PNG is => Defect\n",
            "Predicted class for: 0431.PNG is => Defect\n",
            "Predicted class for: 0434.PNG is => No defect\n",
            "Predicted class for: 0429.PNG is => No defect\n",
            "Predicted class for: 0436.PNG is => No defect\n",
            "Predicted class for: 0432.PNG is => No defect\n",
            "Predicted class for: 0427.PNG is => No defect\n",
            "Predicted class for: 0430.PNG is => No defect\n",
            "Predicted class for: 0437.PNG is => No defect\n",
            "Predicted class for: 0438.PNG is => No defect\n",
            "Predicted class for: 0447.PNG is => Defect\n",
            "Predicted class for: 0439.PNG is => No defect\n",
            "Predicted class for: 0441.PNG is => Defect\n",
            "Predicted class for: 0448.PNG is => No defect\n",
            "Predicted class for: 0445.PNG is => No defect\n",
            "Predicted class for: 0446.PNG is => No defect\n",
            "Predicted class for: 0440.PNG is => No defect\n",
            "Predicted class for: 0449.PNG is => No defect\n",
            "Predicted class for: 0442.PNG is => No defect\n",
            "Predicted class for: 0444.PNG is => No defect\n",
            "Predicted class for: 0443.PNG is => Defect\n",
            "Predicted class for: 0450.PNG is => No defect\n",
            "Predicted class for: 0452.PNG is => No defect\n",
            "Predicted class for: 0451.PNG is => Defect\n",
            "Predicted class for: 0458.PNG is => No defect\n",
            "Predicted class for: 0460.PNG is => No defect\n",
            "Predicted class for: 0454.PNG is => No defect\n",
            "Predicted class for: 0455.PNG is => No defect\n",
            "Predicted class for: 0456.PNG is => No defect\n",
            "Predicted class for: 0457.PNG is => No defect\n",
            "Predicted class for: 0459.PNG is => No defect\n",
            "Predicted class for: 0461.PNG is => No defect\n",
            "Predicted class for: 0462.PNG is => No defect\n",
            "Predicted class for: 0453.PNG is => No defect\n",
            "Predicted class for: 0463.PNG is => No defect\n",
            "Predicted class for: 0467.PNG is => No defect\n",
            "Predicted class for: 0468.PNG is => No defect\n",
            "Predicted class for: 0473.PNG is => No defect\n",
            "Predicted class for: 0470.PNG is => No defect\n",
            "Predicted class for: 0472.PNG is => Defect\n",
            "Predicted class for: 0469.PNG is => No defect\n",
            "Predicted class for: 0471.PNG is => No defect\n",
            "Predicted class for: 0474.PNG is => No defect\n",
            "Predicted class for: 0465.PNG is => No defect\n",
            "Predicted class for: 0464.PNG is => No defect\n",
            "Predicted class for: 0466.PNG is => No defect\n",
            "Predicted class for: 0475.PNG is => No defect\n",
            "Predicted class for: 0284.PNG is => Defect\n",
            "Predicted class for: 0275.PNG is => Defect\n",
            "Predicted class for: 0279.PNG is => No defect\n",
            "Predicted class for: 0285.PNG is => No defect\n",
            "Predicted class for: 0277.PNG is => No defect\n",
            "Predicted class for: 0282.PNG is => No defect\n",
            "Predicted class for: 0283.PNG is => No defect\n",
            "Predicted class for: 0276.PNG is => No defect\n",
            "Predicted class for: 0281.PNG is => No defect\n",
            "Predicted class for: 0286.PNG is => Defect\n",
            "Predicted class for: 0280.PNG is => No defect\n",
            "Predicted class for: 0287.PNG is => No defect\n",
            "Predicted class for: 0291.PNG is => No defect\n",
            "Predicted class for: 0297.PNG is => No defect\n",
            "Predicted class for: 0290.PNG is => No defect\n",
            "Predicted class for: 0294.PNG is => No defect\n",
            "Predicted class for: 0293.PNG is => No defect\n",
            "Predicted class for: 0298.PNG is => No defect\n",
            "Predicted class for: 0289.PNG is => No defect\n",
            "Predicted class for: 0295.PNG is => No defect\n",
            "Predicted class for: 0292.PNG is => Defect\n",
            "Predicted class for: 0296.PNG is => No defect\n",
            "Predicted class for: 0299.PNG is => No defect\n",
            "Predicted class for: 0288.PNG is => No defect\n",
            "Predicted class for: 0300.PNG is => No defect\n",
            "Predicted class for: 0301.PNG is => No defect\n",
            "Predicted class for: 0302.PNG is => No defect\n",
            "Predicted class for: 0303.PNG is => Defect\n",
            "Predicted class for: 0310.PNG is => No defect\n",
            "Predicted class for: 0305.PNG is => No defect\n",
            "Predicted class for: 0309.PNG is => No defect\n",
            "Predicted class for: 0308.PNG is => No defect\n",
            "Predicted class for: 0311.PNG is => Defect\n",
            "Predicted class for: 0304.PNG is => No defect\n",
            "Predicted class for: 0306.PNG is => No defect\n",
            "Predicted class for: 0307.PNG is => No defect\n",
            "Predicted class for: 0312.PNG is => No defect\n",
            "Predicted class for: 0313.PNG is => No defect\n",
            "Predicted class for: 0322.PNG is => No defect\n",
            "Predicted class for: 0314.PNG is => No defect\n",
            "Predicted class for: 0315.PNG is => No defect\n",
            "Predicted class for: 0323.PNG is => No defect\n",
            "Predicted class for: 0320.PNG is => Defect\n",
            "Predicted class for: 0318.PNG is => No defect\n",
            "Predicted class for: 0319.PNG is => No defect\n",
            "Predicted class for: 0324.PNG is => No defect\n",
            "Predicted class for: 0316.PNG is => No defect\n",
            "Predicted class for: 0317.PNG is => No defect\n",
            "Predicted class for: 0321.PNG is => No defect\n",
            "Predicted class for: 0325.PNG is => No defect\n",
            "Predicted class for: 0328.PNG is => No defect\n",
            "Predicted class for: 0335.PNG is => No defect\n",
            "Predicted class for: 0329.PNG is => No defect\n",
            "Predicted class for: 0336.PNG is => Defect\n",
            "Predicted class for: 0327.PNG is => Defect\n",
            "Predicted class for: 0331.PNG is => No defect\n",
            "Predicted class for: 0326.PNG is => No defect\n",
            "Predicted class for: 0330.PNG is => Defect\n",
            "Predicted class for: 0337.PNG is => No defect\n",
            "Predicted class for: 0333.PNG is => Defect\n",
            "Predicted class for: 0332.PNG is => No defect\n",
            "Predicted class for: 0334.PNG is => Defect\n",
            "Predicted class for: 0338.PNG is => No defect\n",
            "Predicted class for: 0342.PNG is => Defect\n",
            "Predicted class for: 0341.PNG is => No defect\n",
            "Predicted class for: 0348.PNG is => No defect\n",
            "Predicted class for: 0345.PNG is => No defect\n",
            "Predicted class for: 0344.PNG is => No defect\n",
            "Predicted class for: 0346.PNG is => No defect\n",
            "Predicted class for: 0339.PNG is => No defect\n",
            "Predicted class for: 0349.PNG is => No defect\n",
            "Predicted class for: 0347.PNG is => No defect\n",
            "Predicted class for: 0340.PNG is => No defect\n",
            "Predicted class for: 0343.PNG is => No defect\n",
            "Predicted class for: 0350.PNG is => No defect\n",
            "Predicted class for: 0353.PNG is => No defect\n",
            "Predicted class for: 0360.PNG is => No defect\n",
            "Predicted class for: 0352.PNG is => No defect\n",
            "Predicted class for: 0354.PNG is => No defect\n",
            "Predicted class for: 0357.PNG is => No defect\n",
            "Predicted class for: 0351.PNG is => No defect\n",
            "Predicted class for: 0356.PNG is => No defect\n",
            "Predicted class for: 0358.PNG is => No defect\n",
            "Predicted class for: 0359.PNG is => No defect\n",
            "Predicted class for: 0361.PNG is => No defect\n",
            "Predicted class for: 0355.PNG is => No defect\n",
            "Predicted class for: 0362.PNG is => No defect\n",
            "Predicted class for: 0367.PNG is => No defect\n",
            "Predicted class for: 0372.PNG is => No defect\n",
            "Predicted class for: 0369.PNG is => No defect\n",
            "Predicted class for: 0366.PNG is => No defect\n",
            "Predicted class for: 0368.PNG is => No defect\n",
            "Predicted class for: 0373.PNG is => No defect\n",
            "Predicted class for: 0365.PNG is => No defect\n",
            "Predicted class for: 0370.PNG is => No defect\n",
            "Predicted class for: 0364.PNG is => Defect\n",
            "Predicted class for: 0363.PNG is => No defect\n",
            "Predicted class for: 0371.PNG is => Defect\n",
            "Predicted class for: 0374.PNG is => No defect\n",
            "Predicted class for: 0375.PNG is => No defect\n",
            "Predicted class for: 0184.PNG is => No defect\n",
            "Predicted class for: 0177.PNG is => No defect\n",
            "Predicted class for: 0176.PNG is => No defect\n",
            "Predicted class for: 0182.PNG is => No defect\n",
            "Predicted class for: 0179.PNG is => No defect\n",
            "Predicted class for: 0181.PNG is => No defect\n",
            "Predicted class for: 0180.PNG is => No defect\n",
            "Predicted class for: 0185.PNG is => No defect\n",
            "Predicted class for: 0178.PNG is => Defect\n",
            "Predicted class for: 0183.PNG is => No defect\n",
            "Predicted class for: 0186.PNG is => No defect\n",
            "Predicted class for: 0189.PNG is => No defect\n",
            "Predicted class for: 0196.PNG is => No defect\n",
            "Predicted class for: 0194.PNG is => No defect\n",
            "Predicted class for: 0188.PNG is => No defect\n",
            "Predicted class for: 0197.PNG is => No defect\n",
            "Predicted class for: 0190.PNG is => No defect\n",
            "Predicted class for: 0187.PNG is => No defect\n",
            "Predicted class for: 0198.PNG is => No defect\n",
            "Predicted class for: 0192.PNG is => No defect\n",
            "Predicted class for: 0195.PNG is => No defect\n",
            "Predicted class for: 0191.PNG is => No defect\n",
            "Predicted class for: 0193.PNG is => No defect\n",
            "Predicted class for: 0199.PNG is => No defect\n",
            "Predicted class for: 0203.PNG is => No defect\n",
            "Predicted class for: 0204.PNG is => No defect\n",
            "Predicted class for: 0209.PNG is => Defect\n",
            "Predicted class for: 0202.PNG is => No defect\n",
            "Predicted class for: 0205.PNG is => No defect\n",
            "Predicted class for: 0206.PNG is => No defect\n",
            "Predicted class for: 0210.PNG is => No defect\n",
            "Predicted class for: 0208.PNG is => No defect\n",
            "Predicted class for: 0207.PNG is => No defect\n",
            "Predicted class for: 0211.PNG is => No defect\n",
            "Predicted class for: 0200.PNG is => No defect\n",
            "Predicted class for: 0201.PNG is => No defect\n",
            "Predicted class for: 0212.PNG is => No defect\n",
            "Predicted class for: 0219.PNG is => No defect\n",
            "Predicted class for: 0222.PNG is => No defect\n",
            "Predicted class for: 0215.PNG is => No defect\n",
            "Predicted class for: 0220.PNG is => Defect\n",
            "Predicted class for: 0223.PNG is => No defect\n",
            "Predicted class for: 0217.PNG is => No defect\n",
            "Predicted class for: 0218.PNG is => No defect\n",
            "Predicted class for: 0213.PNG is => No defect\n",
            "Predicted class for: 0221.PNG is => No defect\n",
            "Predicted class for: 0224.PNG is => No defect\n",
            "Predicted class for: 0214.PNG is => No defect\n",
            "Predicted class for: 0216.PNG is => No defect\n",
            "Predicted class for: 0225.PNG is => No defect\n",
            "Predicted class for: 0226.PNG is => No defect\n",
            "Predicted class for: 0228.PNG is => No defect\n",
            "Predicted class for: 0235.PNG is => No defect\n",
            "Predicted class for: 0233.PNG is => No defect\n",
            "Predicted class for: 0234.PNG is => Defect\n",
            "Predicted class for: 0231.PNG is => No defect\n",
            "Predicted class for: 0236.PNG is => No defect\n",
            "Predicted class for: 0232.PNG is => No defect\n",
            "Predicted class for: 0227.PNG is => No defect\n",
            "Predicted class for: 0230.PNG is => No defect\n",
            "Predicted class for: 0229.PNG is => Defect\n",
            "Predicted class for: 0237.PNG is => No defect\n",
            "Predicted class for: 0247.PNG is => No defect\n",
            "Predicted class for: 0238.PNG is => No defect\n",
            "Predicted class for: 0245.PNG is => No defect\n",
            "Predicted class for: 0246.PNG is => Defect\n",
            "Predicted class for: 0244.PNG is => No defect\n",
            "Predicted class for: 0242.PNG is => No defect\n",
            "Predicted class for: 0248.PNG is => No defect\n",
            "Predicted class for: 0241.PNG is => Defect\n",
            "Predicted class for: 0243.PNG is => Defect\n",
            "Predicted class for: 0249.PNG is => No defect\n",
            "Predicted class for: 0239.PNG is => No defect\n",
            "Predicted class for: 0240.PNG is => No defect\n",
            "Predicted class for: 0250.PNG is => No defect\n",
            "Predicted class for: 0251.PNG is => Defect\n",
            "Predicted class for: 0252.PNG is => No defect\n",
            "Predicted class for: 0260.PNG is => No defect\n",
            "Predicted class for: 0256.PNG is => No defect\n",
            "Predicted class for: 0257.PNG is => No defect\n",
            "Predicted class for: 0258.PNG is => No defect\n",
            "Predicted class for: 0261.PNG is => No defect\n",
            "Predicted class for: 0259.PNG is => No defect\n",
            "Predicted class for: 0254.PNG is => No defect\n",
            "Predicted class for: 0253.PNG is => No defect\n",
            "Predicted class for: 0255.PNG is => Defect\n",
            "Predicted class for: 0262.PNG is => No defect\n",
            "Predicted class for: 0263.PNG is => No defect\n",
            "Predicted class for: 0272.PNG is => No defect\n",
            "Predicted class for: 0267.PNG is => No defect\n",
            "Predicted class for: 0264.PNG is => No defect\n",
            "Predicted class for: 0268.PNG is => No defect\n",
            "Predicted class for: 0273.PNG is => No defect\n",
            "Predicted class for: 0271.PNG is => No defect\n",
            "Predicted class for: 0265.PNG is => No defect\n",
            "Predicted class for: 0270.PNG is => No defect\n",
            "Predicted class for: 0266.PNG is => No defect\n",
            "Predicted class for: 0269.PNG is => No defect\n",
            "Predicted class for: 0274.PNG is => No defect\n",
            "Predicted class for: 0278.PNG is => No defect\n",
            "Predicted class for: 0084.PNG is => No defect\n",
            "Predicted class for: 0078.PNG is => No defect\n",
            "Predicted class for: 0079.PNG is => No defect\n",
            "Predicted class for: 0080.PNG is => No defect\n",
            "Predicted class for: 0085.PNG is => No defect\n",
            "Predicted class for: 0076.PNG is => No defect\n",
            "Predicted class for: 0077.PNG is => No defect\n",
            "Predicted class for: 0086.PNG is => No defect\n",
            "Predicted class for: 0075.PNG is => No defect\n",
            "Predicted class for: 0082.PNG is => No defect\n",
            "Predicted class for: 0083.PNG is => No defect\n",
            "Predicted class for: 0087.PNG is => No defect\n",
            "Predicted class for: 0091.PNG is => No defect\n",
            "Predicted class for: 0097.PNG is => Defect\n",
            "Predicted class for: 0090.PNG is => No defect\n",
            "Predicted class for: 0092.PNG is => No defect\n",
            "Predicted class for: 0098.PNG is => No defect\n",
            "Predicted class for: 0096.PNG is => Defect\n",
            "Predicted class for: 0094.PNG is => No defect\n",
            "Predicted class for: 0095.PNG is => No defect\n",
            "Predicted class for: 0089.PNG is => No defect\n",
            "Predicted class for: 0088.PNG is => No defect\n",
            "Predicted class for: 0099.PNG is => No defect\n",
            "Predicted class for: 0093.PNG is => No defect\n",
            "Predicted class for: 0100.PNG is => No defect\n",
            "Predicted class for: 0101.PNG is => No defect\n",
            "Predicted class for: 0105.PNG is => No defect\n",
            "Predicted class for: 0104.PNG is => No defect\n",
            "Predicted class for: 0110.PNG is => Defect\n",
            "Predicted class for: 0103.PNG is => No defect\n",
            "Predicted class for: 0106.PNG is => No defect\n",
            "Predicted class for: 0107.PNG is => No defect\n",
            "Predicted class for: 0108.PNG is => No defect\n",
            "Predicted class for: 0102.PNG is => No defect\n",
            "Predicted class for: 0109.PNG is => No defect\n",
            "Predicted class for: 0111.PNG is => No defect\n",
            "Predicted class for: 0112.PNG is => No defect\n",
            "Predicted class for: 0116.PNG is => No defect\n",
            "Predicted class for: 0121.PNG is => No defect\n",
            "Predicted class for: 0119.PNG is => No defect\n",
            "Predicted class for: 0117.PNG is => No defect\n",
            "Predicted class for: 0122.PNG is => No defect\n",
            "Predicted class for: 0113.PNG is => No defect\n",
            "Predicted class for: 0118.PNG is => No defect\n",
            "Predicted class for: 0114.PNG is => No defect\n",
            "Predicted class for: 0123.PNG is => Defect\n",
            "Predicted class for: 0120.PNG is => No defect\n",
            "Predicted class for: 0115.PNG is => No defect\n",
            "Predicted class for: 0124.PNG is => No defect\n",
            "Predicted class for: 0129.PNG is => No defect\n",
            "Predicted class for: 0134.PNG is => No defect\n",
            "Predicted class for: 0131.PNG is => No defect\n",
            "Predicted class for: 0133.PNG is => No defect\n",
            "Predicted class for: 0130.PNG is => No defect\n",
            "Predicted class for: 0125.PNG is => No defect\n",
            "Predicted class for: 0128.PNG is => No defect\n",
            "Predicted class for: 0127.PNG is => No defect\n",
            "Predicted class for: 0135.PNG is => No defect\n",
            "Predicted class for: 0126.PNG is => Defect\n",
            "Predicted class for: 0132.PNG is => No defect\n",
            "Predicted class for: 0136.PNG is => Defect\n",
            "Predicted class for: 0138.PNG is => No defect\n",
            "Predicted class for: 0146.PNG is => No defect\n",
            "Predicted class for: 0137.PNG is => No defect\n",
            "Predicted class for: 0142.PNG is => No defect\n",
            "Predicted class for: 0144.PNG is => Defect\n",
            "Predicted class for: 0147.PNG is => No defect\n",
            "Predicted class for: 0143.PNG is => No defect\n",
            "Predicted class for: 0141.PNG is => No defect\n",
            "Predicted class for: 0145.PNG is => No defect\n",
            "Predicted class for: 0148.PNG is => Defect\n",
            "Predicted class for: 0139.PNG is => Defect\n",
            "Predicted class for: 0140.PNG is => No defect\n",
            "Predicted class for: 0149.PNG is => No defect\n",
            "Predicted class for: 0152.PNG is => No defect\n",
            "Predicted class for: 0159.PNG is => No defect\n",
            "Predicted class for: 0154.PNG is => No defect\n",
            "Predicted class for: 0155.PNG is => No defect\n",
            "Predicted class for: 0156.PNG is => No defect\n",
            "Predicted class for: 0153.PNG is => No defect\n",
            "Predicted class for: 0158.PNG is => No defect\n",
            "Predicted class for: 0150.PNG is => No defect\n",
            "Predicted class for: 0151.PNG is => No defect\n",
            "Predicted class for: 0160.PNG is => Defect\n",
            "Predicted class for: 0157.PNG is => No defect\n",
            "Predicted class for: 0161.PNG is => No defect\n",
            "Predicted class for: 0162.PNG is => No defect\n",
            "Predicted class for: 0171.PNG is => No defect\n",
            "Predicted class for: 0167.PNG is => Defect\n",
            "Predicted class for: 0166.PNG is => No defect\n",
            "Predicted class for: 0169.PNG is => No defect\n",
            "Predicted class for: 0168.PNG is => No defect\n",
            "Predicted class for: 0172.PNG is => No defect\n",
            "Predicted class for: 0163.PNG is => No defect\n",
            "Predicted class for: 0165.PNG is => No defect\n",
            "Predicted class for: 0170.PNG is => No defect\n",
            "Predicted class for: 0173.PNG is => No defect\n",
            "Predicted class for: 0164.PNG is => No defect\n",
            "Predicted class for: 0174.PNG is => No defect\n",
            "Predicted class for: 0175.PNG is => No defect\n",
            "Predicted class for: 0001.PNG is => No defect\n",
            "Predicted class for: 0002.PNG is => No defect\n",
            "Predicted class for: 0004.PNG is => No defect\n",
            "Predicted class for: 0009.PNG is => No defect\n",
            "Predicted class for: 0008.PNG is => No defect\n",
            "Predicted class for: 0010.PNG is => No defect\n",
            "Predicted class for: 0012.PNG is => No defect\n",
            "Predicted class for: 0005.PNG is => No defect\n",
            "Predicted class for: 0006.PNG is => No defect\n",
            "Predicted class for: 0011.PNG is => No defect\n",
            "Predicted class for: 0013.PNG is => No defect\n",
            "Predicted class for: 0007.PNG is => No defect\n",
            "Predicted class for: 0003.PNG is => No defect\n",
            "Predicted class for: 0014.PNG is => No defect\n",
            "Predicted class for: 0015.PNG is => No defect\n",
            "Predicted class for: 0024.PNG is => No defect\n",
            "Predicted class for: 0016.PNG is => No defect\n",
            "Predicted class for: 0017.PNG is => No defect\n",
            "Predicted class for: 0019.PNG is => No defect\n",
            "Predicted class for: 0023.PNG is => No defect\n",
            "Predicted class for: 0022.PNG is => No defect\n",
            "Predicted class for: 0025.PNG is => No defect\n",
            "Predicted class for: 0020.PNG is => No defect\n",
            "Predicted class for: 0021.PNG is => Defect\n",
            "Predicted class for: 0018.PNG is => No defect\n",
            "Predicted class for: 0026.PNG is => No defect\n",
            "Predicted class for: 0027.PNG is => Defect\n",
            "Predicted class for: 0036.PNG is => Defect\n",
            "Predicted class for: 0034.PNG is => No defect\n",
            "Predicted class for: 0032.PNG is => No defect\n",
            "Predicted class for: 0031.PNG is => No defect\n",
            "Predicted class for: 0037.PNG is => No defect\n",
            "Predicted class for: 0035.PNG is => No defect\n",
            "Predicted class for: 0033.PNG is => No defect\n",
            "Predicted class for: 0029.PNG is => No defect\n",
            "Predicted class for: 0028.PNG is => Defect\n",
            "Predicted class for: 0030.PNG is => No defect\n",
            "Predicted class for: 0038.PNG is => No defect\n",
            "Predicted class for: 0039.PNG is => No defect\n",
            "Predicted class for: 0048.PNG is => No defect\n",
            "Predicted class for: 0042.PNG is => No defect\n",
            "Predicted class for: 0043.PNG is => No defect\n",
            "Predicted class for: 0044.PNG is => No defect\n",
            "Predicted class for: 0045.PNG is => No defect\n",
            "Predicted class for: 0041.PNG is => No defect\n",
            "Predicted class for: 0049.PNG is => No defect\n",
            "Predicted class for: 0040.PNG is => No defect\n",
            "Predicted class for: 0046.PNG is => No defect\n",
            "Predicted class for: 0047.PNG is => No defect\n",
            "Predicted class for: 0050.PNG is => No defect\n",
            "Predicted class for: 0058.PNG is => No defect\n",
            "Predicted class for: 0060.PNG is => No defect\n",
            "Predicted class for: 0055.PNG is => No defect\n",
            "Predicted class for: 0054.PNG is => No defect\n",
            "Predicted class for: 0052.PNG is => No defect\n",
            "Predicted class for: 0056.PNG is => No defect\n",
            "Predicted class for: 0051.PNG is => No defect\n",
            "Predicted class for: 0057.PNG is => No defect\n",
            "Predicted class for: 0061.PNG is => No defect\n",
            "Predicted class for: 0053.PNG is => Defect\n",
            "Predicted class for: 0059.PNG is => Defect\n",
            "Predicted class for: 0062.PNG is => No defect\n",
            "Predicted class for: 0063.PNG is => No defect\n",
            "Predicted class for: 0072.PNG is => No defect\n",
            "Predicted class for: 0064.PNG is => No defect\n",
            "Predicted class for: 0065.PNG is => No defect\n",
            "Predicted class for: 0073.PNG is => No defect\n",
            "Predicted class for: 0070.PNG is => No defect\n",
            "Predicted class for: 0069.PNG is => No defect\n",
            "Predicted class for: 0066.PNG is => No defect\n",
            "Predicted class for: 0068.PNG is => No defect\n",
            "Predicted class for: 0071.PNG is => No defect\n",
            "Predicted class for: 0067.PNG is => No defect\n",
            "Predicted class for: 0074.PNG is => No defect\n",
            "Predicted class for: 0081.PNG is => No defect\n"
          ],
          "name": "stdout"
        }
      ]
    }
  ]
}